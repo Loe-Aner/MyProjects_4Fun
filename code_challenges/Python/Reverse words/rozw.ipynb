{
 "cells": [
  {
   "cell_type": "markdown",
   "id": "f9b0550c",
   "metadata": {},
   "source": [
    "### Reverse words\n",
    "\n",
    "Uzupełnij funkcję, która przyjmuje parametr w postaci ciągu znaków (stringa) i odwraca każde słowo w tym ciągu. Wszystkie spacje w ciągu znaków powinny zostać zachowane.\n",
    "\n",
    "**Przykłady:**\n",
    "\n",
    "`\"This is an example!\" ==> \"sihT si na !elpmaxe\"`\n",
    "\n",
    "`\"double  spaces\"      ==> \"elbuod  secaps\"`"
   ]
  },
  {
   "cell_type": "code",
   "execution_count": 84,
   "id": "a9ade43d",
   "metadata": {},
   "outputs": [
    {
     "data": {
      "text/plain": [
       "'sihT si na !elpmaxe'"
      ]
     },
     "execution_count": 84,
     "metadata": {},
     "output_type": "execute_result"
    }
   ],
   "source": [
    "def reverse_words(text):\n",
    "    words = text.split(\" \")\n",
    "    new_text = [word[::-1] for word in words]\n",
    "    return \" \".join(new_text)\n",
    "\n",
    "reverse_words(\"This is an example!\")"
   ]
  }
 ],
 "metadata": {
  "kernelspec": {
   "display_name": "Python 3",
   "language": "python",
   "name": "python3"
  },
  "language_info": {
   "codemirror_mode": {
    "name": "ipython",
    "version": 3
   },
   "file_extension": ".py",
   "mimetype": "text/x-python",
   "name": "python",
   "nbconvert_exporter": "python",
   "pygments_lexer": "ipython3",
   "version": "3.13.5"
  }
 },
 "nbformat": 4,
 "nbformat_minor": 5
}
