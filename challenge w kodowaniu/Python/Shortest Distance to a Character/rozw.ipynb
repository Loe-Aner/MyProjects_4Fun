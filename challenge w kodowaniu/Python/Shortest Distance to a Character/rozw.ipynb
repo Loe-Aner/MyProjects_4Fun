{
 "cells": [
  {
   "cell_type": "markdown",
   "id": "ad5ca2f9",
   "metadata": {},
   "source": [
    "### Zadanie: Najkrótsza odległość do znaku 📏\n",
    "\n",
    "Dla danego ciągu znaków `s` i znaku `c`, zwróć tablicę (listę) liczb całkowitych. Każdy element tej tablicy ma reprezentować **najkrótszą odległość** od znaku na tej samej pozycji w `s` do najbliższego wystąpienia znaku `c`.\n",
    "\n",
    "***\n",
    "\n",
    "#### Uwagi\n",
    "\n",
    "* Wszystkie litery będą małe.\n",
    "* Jeśli ciąg znaków `s` jest pusty, zwróć pustą tablicę.\n",
    "* Jeśli znak `c` nie występuje w ciągu `s` (lub sam `c` jest pusty), zwróć pustą tablicę.\n",
    "\n",
    "***\n",
    "\n",
    "#### Przykłady\n",
    "\n",
    "`s = \"lovecodewars\"`\n",
    "`c = \"e\"`\n",
    "`wynik = [3, 2, 1, 0, 1, 2, 1, 0, 1, 2, 3, 4]`\n",
    "\n",
    "---\n",
    "\n",
    "`s = \"aaaabbbb\"`\n",
    "`c = \"b\"`\n",
    "`wynik = [4, 3, 2, 1, 0, 0, 0, 0]`\n",
    "\n",
    "---\n",
    "\n",
    "`s = \"\"`\n",
    "`c = \"b\"`\n",
    "`wynik = []`\n",
    "\n",
    "---\n",
    "\n",
    "`s = \"abcde\"`\n",
    "`c = \"\"`\n",
    "`wynik = []`"
   ]
  },
  {
   "cell_type": "code",
   "execution_count": 180,
   "id": "42cb9ba5",
   "metadata": {},
   "outputs": [],
   "source": [
    "s = \"lovecodewarser\"\n",
    "c = \"e\""
   ]
  },
  {
   "cell_type": "code",
   "execution_count": 181,
   "id": "a0e07c0d",
   "metadata": {},
   "outputs": [
    {
     "data": {
      "text/plain": [
       "[3, 2, 1, 0, 1, 2, 1, 0, 1, 2, 2, 1, 0, 1]"
      ]
     },
     "execution_count": 181,
     "metadata": {},
     "output_type": "execute_result"
    }
   ],
   "source": [
    "def shortest_to_char(s, c):\n",
    "    nbs = [i for i, ltr in enumerate(s) if ltr == c]\n",
    "    if nbs:\n",
    "        di = {k: [abs(x-k) for x in nbs] for k in range(len(s))}\n",
    "        l = []\n",
    "\n",
    "        for part in di.items():\n",
    "            i, lst = part[0], part[1]\n",
    "            l.append(min(lst))\n",
    "        return l\n",
    "    else:\n",
    "        return []\n",
    "shortest_to_char(s, c)"
   ]
  },
  {
   "cell_type": "code",
   "execution_count": 149,
   "id": "346473e8",
   "metadata": {},
   "outputs": [
    {
     "data": {
      "text/plain": [
       "{0: [3, 7, 12],\n",
       " 1: [2, 6, 11],\n",
       " 2: [1, 5, 10],\n",
       " 3: [0, 4, 9],\n",
       " 4: [-1, 3, 8],\n",
       " 5: [-2, 2, 7],\n",
       " 6: [-3, 1, 6],\n",
       " 7: [-4, 0, 5],\n",
       " 8: [-5, -1, 4],\n",
       " 9: [-6, -2, 3],\n",
       " 10: [-7, -3, 2],\n",
       " 11: [-8, -4, 1],\n",
       " 12: [-9, -5, 0],\n",
       " 13: [-10, -6, -1]}"
      ]
     },
     "execution_count": 149,
     "metadata": {},
     "output_type": "execute_result"
    }
   ],
   "source": [
    "nbs = [i for i, ltr in enumerate(s) if ltr == c]\n",
    "di = {k: [x-k for x in nbs] for k in range(len(s))}\n",
    "di"
   ]
  },
  {
   "cell_type": "code",
   "execution_count": null,
   "id": "596f9c98",
   "metadata": {},
   "outputs": [],
   "source": []
  }
 ],
 "metadata": {
  "kernelspec": {
   "display_name": "Python 3",
   "language": "python",
   "name": "python3"
  },
  "language_info": {
   "codemirror_mode": {
    "name": "ipython",
    "version": 3
   },
   "file_extension": ".py",
   "mimetype": "text/x-python",
   "name": "python",
   "nbconvert_exporter": "python",
   "pygments_lexer": "ipython3",
   "version": "3.13.5"
  }
 },
 "nbformat": 4,
 "nbformat_minor": 5
}
