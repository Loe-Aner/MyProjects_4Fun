{
 "cells": [
  {
   "cell_type": "markdown",
   "id": "bf615755",
   "metadata": {},
   "source": [
    "## *Dość tego! (Enough is enough!)*\n",
    "\n",
    "Alicja i Bartek byli na wakacjach. Oboje zrobili mnóstwo zdjęć z miejsc, w których byli, a teraz chcą pokazać całą swoją kolekcję Karolowi. Karol jednak nie przepada za takimi pokazami, ponieważ motywy na zdjęciach często się powtarzają. Nie jest fanem oglądania wieży Eiffla 40 razy z rzędu.\n",
    "\n",
    "Mówi im, że usiądzie do oglądania tylko wtedy, gdy ten sam motyw pokażą mu **maksymalnie `N` razy**. Na szczęście Alicja i Bartek potrafią zakodować każdy motyw jako liczbę. Czy możesz pomóc im usunąć nadmiarowe liczby tak, aby ich lista zawierała każdą z nich co najwyżej `N` razy, nie zmieniając przy tym kolejności?\n",
    "\n",
    "### *Zadanie*\n",
    "\n",
    "Mając daną listę (`order`) oraz liczbę (`max_e`), stwórz nową listę, która będzie zawierać każdą liczbę z listy wejściowej **co najwyżej `max_e` razy**, bez zmiany ich pierwotnej kolejności.\n",
    "\n",
    "### *Przykłady*\n",
    "\n",
    "* Jeśli `max_e = 2`, a lista wejściowa to `[1,2,3,1,2,1,2,3]`:\n",
    "    * Bierzesz `[1,2,3,1,2]`\n",
    "    * Pomijasz kolejne `[1,2]`, ponieważ to sprawiłoby, że `1` i `2` wystąpiłyby w wyniku 3 razy.\n",
    "    * Na koniec bierzesz `3`, co prowadzi do ostatecznego wyniku.\n",
    "    * **Wynik:** `[1,2,3,1,2,3]`\n",
    "\n",
    "* Dla listy `[20,37,20,21]` i `max_e = 1`:\n",
    "    * **Wynik:** `[20,37,21]`"
   ]
  },
  {
   "cell_type": "code",
   "execution_count": 42,
   "id": "9a8baf10",
   "metadata": {},
   "outputs": [
    {
     "data": {
      "text/plain": [
       "[1, 1, 1, 2, 2, 2, 3, 3, 3, 4, 4, 4, 5, 5, 5, 6, 6, 7, 8, 8, 9, 9]"
      ]
     },
     "execution_count": 42,
     "metadata": {},
     "output_type": "execute_result"
    }
   ],
   "source": [
    "order = [1,1,1,2,3,3,3,4,4,4,3,2,1,2,3,2,2,3,5,5,5,6,6,7,8,8,9,9]\n",
    "max_e = 3\n",
    "\n",
    "liczniki = {}\n",
    "wynik = []\n",
    "\n",
    "for liczba in order:\n",
    "    if liczniki.get(liczba, 0) < max_e:\n",
    "        liczniki[liczba] = liczniki.get(liczba, 0) + 1\n",
    "        wynik.append(liczba)\n",
    "\n",
    "sorted(wynik)"
   ]
  }
 ],
 "metadata": {
  "kernelspec": {
   "display_name": "Python 3",
   "language": "python",
   "name": "python3"
  },
  "language_info": {
   "codemirror_mode": {
    "name": "ipython",
    "version": 3
   },
   "file_extension": ".py",
   "mimetype": "text/x-python",
   "name": "python",
   "nbconvert_exporter": "python",
   "pygments_lexer": "ipython3",
   "version": "3.13.5"
  }
 },
 "nbformat": 4,
 "nbformat_minor": 5
}
